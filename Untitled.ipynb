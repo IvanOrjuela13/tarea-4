{
 "cells": [
  {
   "cell_type": "markdown",
   "id": "322bea84-6e9f-4541-9baf-b59e83fa1b19",
   "metadata": {},
   "source": [
    "**1. Análisis Exploratorio de Datos (EDA):**"
   ]
  },
  {
   "cell_type": "markdown",
   "id": "9505eb8a-8719-43aa-8371-7c08a629742c",
   "metadata": {},
   "source": [
    "**Comenzaremos cargando los datos y examinando su estructura y resumen.**"
   ]
  },
  {
   "cell_type": "code",
   "execution_count": null,
   "id": "8319f6c8-dfac-42e5-adc5-6070f2a6264d",
   "metadata": {},
   "outputs": [],
   "source": [
    "import pandas as pd\n",
    "\n",
    "# Cargar los datos\n",
    "data = pd.read_csv(\"Mall_Customers.csv\")\n",
    "\n",
    "# Mostrar las primeras filas del DataFrame\n",
    "print(data.head())\n",
    "\n",
    "# Obtener información sobre el DataFrame\n",
    "print(data.info())\n",
    "\n",
    "# Estadísticas descriptivas para variables numéricas\n",
    "print(data.describe())\n",
    "\n",
    "# Conteo de valores únicos para variables categóricas\n",
    "print(data['Gender'].value_counts())"
   ]
  },
  {
   "cell_type": "markdown",
   "id": "d14977d1-062a-4760-87bd-ba1b4a41f5b4",
   "metadata": {},
   "source": [
    "**Este análisis nos permitirá identificar cualquier tendencia, relación o valor atípico en los datos.**"
   ]
  }
 ],
 "metadata": {
  "kernelspec": {
   "display_name": "Python 3 (ipykernel)",
   "language": "python",
   "name": "python3"
  },
  "language_info": {
   "codemirror_mode": {
    "name": "ipython",
    "version": 3
   },
   "file_extension": ".py",
   "mimetype": "text/x-python",
   "name": "python",
   "nbconvert_exporter": "python",
   "pygments_lexer": "ipython3",
   "version": "3.11.7"
  }
 },
 "nbformat": 4,
 "nbformat_minor": 5
}

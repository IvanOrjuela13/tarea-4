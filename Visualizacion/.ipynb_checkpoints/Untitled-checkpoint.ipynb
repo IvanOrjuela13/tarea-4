{
 "cells": [
  {
   "cell_type": "markdown",
   "id": "e46dd4cb-fdb6-454a-ab79-3a5f42e6ee2d",
   "metadata": {},
   "source": [
    "**Luego, visualizaremos la distribución de las variables numéricas y la relación entre ellas.**"
   ]
  },
  {
   "cell_type": "code",
   "execution_count": null,
   "id": "06891697-5f3c-48b6-b1e8-a3e5499f2d40",
   "metadata": {},
   "outputs": [],
   "source": [
    "import seaborn as sns\n",
    "import matplotlib.pyplot as plt\n",
    "\n",
    "# Visualizar la distribución de las variables numéricas\n",
    "sns.pairplot(data, hue='Gender')\n",
    "plt.show()\n",
    "\n",
    "# Visualizar la distribución de cada variable numérica\n",
    "sns.histplot(data['Age'], kde=True)\n",
    "plt.title('Distribution of Age')\n",
    "plt.show()\n",
    "\n",
    "sns.histplot(data['Annual Income (k$)'], kde=True)\n",
    "plt.title('Distribution of Annual Income')\n",
    "plt.show()\n",
    "\n",
    "sns.histplot(data['Spending Score (1-100)'], kde=True)\n",
    "plt.title('Distribution of Spending Score')\n",
    "plt.show()\n",
    "\n",
    "# Visualizar la relación entre variables numéricas\n",
    "sns.heatmap(data.corr(), annot=True, cmap='coolwarm')\n",
    "plt.title('Correlation Heatmap')\n",
    "plt.show()"
   ]
  }
 ],
 "metadata": {
  "kernelspec": {
   "display_name": "Python 3 (ipykernel)",
   "language": "python",
   "name": "python3"
  },
  "language_info": {
   "codemirror_mode": {
    "name": "ipython",
    "version": 3
   },
   "file_extension": ".py",
   "mimetype": "text/x-python",
   "name": "python",
   "nbconvert_exporter": "python",
   "pygments_lexer": "ipython3",
   "version": "3.11.7"
  }
 },
 "nbformat": 4,
 "nbformat_minor": 5
}

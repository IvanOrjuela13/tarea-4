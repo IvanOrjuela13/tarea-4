{
 "cells": [
  {
   "cell_type": "markdown",
   "id": "16dc248e-ee4f-434c-a0a1-e3c0bdfde309",
   "metadata": {},
   "source": [
    "**2. Preprocesamiento de Datos:**"
   ]
  },
  {
   "cell_type": "markdown",
   "id": "5eb56951-0466-4f59-ad32-151d2e875d11",
   "metadata": {},
   "source": [
    "**Si encontramos valores faltantes, los trataremos adecuadamente, y si es necesario, realizaremos transformaciones en las variables numéricas.**"
   ]
  },
  {
   "cell_type": "code",
   "execution_count": null,
   "id": "567e08b3-a2c8-4c9d-90f1-f3a32deca435",
   "metadata": {},
   "outputs": [],
   "source": [
    "# Tratar valores faltantes si los hay\n",
    "print(data.isnull().sum())\n",
    "\n",
    "# Si hay valores faltantes, podemos imputarlos o eliminar las filas/columnas\n",
    "# Por ejemplo, para imputarlos:\n",
    "# data.fillna(value, inplace=True)\n",
    "\n",
    "# Transformaciones en variables numéricas (normalización/estandarización)\n",
    "# Por ejemplo, utilizando MinMaxScaler o StandardScaler de sklearn.preprocessing"
   ]
  }
 ],
 "metadata": {
  "kernelspec": {
   "display_name": "Python 3 (ipykernel)",
   "language": "python",
   "name": "python3"
  },
  "language_info": {
   "codemirror_mode": {
    "name": "ipython",
    "version": 3
   },
   "file_extension": ".py",
   "mimetype": "text/x-python",
   "name": "python",
   "nbconvert_exporter": "python",
   "pygments_lexer": "ipython3",
   "version": "3.11.7"
  }
 },
 "nbformat": 4,
 "nbformat_minor": 5
}

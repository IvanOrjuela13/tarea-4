{
 "cells": [
  {
   "cell_type": "markdown",
   "id": "791d2c60-601a-4716-ab66-74d1ba007207",
   "metadata": {},
   "source": [
    "**3. Selección de Características:**"
   ]
  },
  {
   "cell_type": "markdown",
   "id": "235f223d-b6c0-41f7-adbb-4c4896898d2b",
   "metadata": {},
   "source": [
    "**Utilizaremos técnicas de selección de características para identificar las más relevantes para el modelo.**"
   ]
  },
  {
   "cell_type": "code",
   "execution_count": null,
   "id": "9bcb21bd-572f-4380-a603-a6904f74fa68",
   "metadata": {},
   "outputs": [],
   "source": [
    "from sklearn.feature_selection import SelectKBest\n",
    "from sklearn.feature_selection import f_regression\n",
    "\n",
    "# Selección de características utilizando prueba de ANOVA\n",
    "X = data.drop(['CustomerID', 'Gender'], axis=1)\n",
    "y = data['Gender']\n",
    "selector = SelectKBest(score_func=f_regression, k=2)\n",
    "X_new = selector.fit_transform(X, y)\n",
    "print(X.columns[selector.get_support()])"
   ]
  }
 ],
 "metadata": {
  "kernelspec": {
   "display_name": "Python 3 (ipykernel)",
   "language": "python",
   "name": "python3"
  },
  "language_info": {
   "codemirror_mode": {
    "name": "ipython",
    "version": 3
   },
   "file_extension": ".py",
   "mimetype": "text/x-python",
   "name": "python",
   "nbconvert_exporter": "python",
   "pygments_lexer": "ipython3",
   "version": "3.11.7"
  }
 },
 "nbformat": 4,
 "nbformat_minor": 5
}

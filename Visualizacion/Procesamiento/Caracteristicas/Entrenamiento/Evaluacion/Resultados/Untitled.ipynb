{
 "cells": [
  {
   "cell_type": "markdown",
   "id": "7b810a59-e57b-4c41-a305-660b6ee12f18",
   "metadata": {},
   "source": [
    "**6. Visualización de Resultados:**"
   ]
  },
  {
   "cell_type": "markdown",
   "id": "5ffa0956-5aeb-4d5d-bedc-97caca208c02",
   "metadata": {},
   "source": [
    "**Finalmente, visualizaremos los resultados del modelo de clustering.**"
   ]
  },
  {
   "cell_type": "code",
   "execution_count": null,
   "id": "5bb84f3a-2dfb-4c90-8372-812f6c1cf599",
   "metadata": {},
   "outputs": [],
   "source": [
    "# Visualizar los centroides y los clústeres identificados\n",
    "plt.scatter(X['Annual Income (k$)'], X['Spending Score (1-100)'], c=kmeans.labels_, cmap='viridis')\n",
    "plt.scatter(kmeans.cluster_centers_[:, 0], kmeans.cluster_centers_[:, 1], s=300, c='red', label='Centroids')\n",
    "plt.xlabel('Annual Income (k$)')\n",
    "plt.ylabel('Spending Score (1-100)')\n",
    "plt.title('K-means Clustering')\n",
    "plt.legend()\n",
    "plt.show()"
   ]
  }
 ],
 "metadata": {
  "kernelspec": {
   "display_name": "Python 3 (ipykernel)",
   "language": "python",
   "name": "python3"
  },
  "language_info": {
   "codemirror_mode": {
    "name": "ipython",
    "version": 3
   },
   "file_extension": ".py",
   "mimetype": "text/x-python",
   "name": "python",
   "nbconvert_exporter": "python",
   "pygments_lexer": "ipython3",
   "version": "3.11.7"
  }
 },
 "nbformat": 4,
 "nbformat_minor": 5
}

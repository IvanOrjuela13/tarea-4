{
 "cells": [
  {
   "cell_type": "markdown",
   "id": "9ccbdafd-5973-4481-a14f-9059ee410ab7",
   "metadata": {},
   "source": [
    "**5. Evaluación del Desempeño del Modelo:**"
   ]
  },
  {
   "cell_type": "markdown",
   "id": "a7262dc4-ccf6-49dd-94fc-e37a0381a7c2",
   "metadata": {},
   "source": [
    "**Evaluaremos el modelo utilizando métricas como el Coeficiente de Silhouette y el Índice de Calinski-Harabasz.**"
   ]
  },
  {
   "cell_type": "code",
   "execution_count": null,
   "id": "f389c185-9c3d-4b35-9921-01c6ad40b042",
   "metadata": {},
   "outputs": [],
   "source": [
    "from sklearn.metrics import silhouette_score, calinski_harabasz_score\n",
    "\n",
    "# Calcular el Coeficiente de Silhouette\n",
    "silhouette_score = silhouette_score(X, kmeans.labels_)\n",
    "print(\"Silhouette Score:\", silhouette_score)\n",
    "\n",
    "# Calcular el Índice de Calinski-Harabasz\n",
    "calinski_harabasz_score = calinski_harabasz_score(X, kmeans.labels_)\n",
    "print(\"Calinski-Harabasz Score:\", calinski_harabasz_score)"
   ]
  }
 ],
 "metadata": {
  "kernelspec": {
   "display_name": "Python 3 (ipykernel)",
   "language": "python",
   "name": "python3"
  },
  "language_info": {
   "codemirror_mode": {
    "name": "ipython",
    "version": 3
   },
   "file_extension": ".py",
   "mimetype": "text/x-python",
   "name": "python",
   "nbconvert_exporter": "python",
   "pygments_lexer": "ipython3",
   "version": "3.11.7"
  }
 },
 "nbformat": 4,
 "nbformat_minor": 5
}

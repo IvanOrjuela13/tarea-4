{
 "cells": [
  {
   "cell_type": "markdown",
   "id": "58a2e2cf-08bb-48ac-ae1e-a61533c4b168",
   "metadata": {},
   "source": [
    "**4. Entrenamiento del Modelo:**"
   ]
  },
  {
   "cell_type": "markdown",
   "id": "e5b26870-306b-4e97-8a8f-ee95abb2a70c",
   "metadata": {},
   "source": [
    "**Ahora entrenaremos el modelo de K-means utilizando los datos.**"
   ]
  },
  {
   "cell_type": "code",
   "execution_count": null,
   "id": "a35c87e2-dada-4899-a6e0-ea7bcb9933c4",
   "metadata": {},
   "outputs": [],
   "source": [
    "from sklearn.cluster import KMeans\n",
    "\n",
    "# Entrenar el modelo K-means\n",
    "kmeans = KMeans(n_clusters=3, random_state=42)\n",
    "kmeans.fit(X)"
   ]
  }
 ],
 "metadata": {
  "kernelspec": {
   "display_name": "Python 3 (ipykernel)",
   "language": "python",
   "name": "python3"
  },
  "language_info": {
   "codemirror_mode": {
    "name": "ipython",
    "version": 3
   },
   "file_extension": ".py",
   "mimetype": "text/x-python",
   "name": "python",
   "nbconvert_exporter": "python",
   "pygments_lexer": "ipython3",
   "version": "3.11.7"
  }
 },
 "nbformat": 4,
 "nbformat_minor": 5
}
